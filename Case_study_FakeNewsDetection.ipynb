{
  "metadata": {
    "kernelspec": {
      "language": "python",
      "display_name": "Python 3",
      "name": "python3"
    },
    "language_info": {
      "name": "python",
      "version": "3.11.13",
      "mimetype": "text/x-python",
      "codemirror_mode": {
        "name": "ipython",
        "version": 3
      },
      "pygments_lexer": "ipython3",
      "nbconvert_exporter": "python",
      "file_extension": ".py"
    },
    "kaggle": {
      "accelerator": "none",
      "dataSources": [
        {
          "sourceId": 1510812,
          "sourceType": "datasetVersion",
          "datasetId": 890123
        }
      ],
      "dockerImageVersionId": 31089,
      "isInternetEnabled": true,
      "language": "python",
      "sourceType": "notebook",
      "isGpuEnabled": false
    },
    "colab": {
      "name": "Case_study_FakeNewsDetection",
      "provenance": []
    }
  },
  "nbformat_minor": 0,
  "nbformat": 4,
  "cells": [
    {
      "source": [
        "# IMPORTANT: RUN THIS CELL IN ORDER TO IMPORT YOUR KAGGLE DATA SOURCES,\n",
        "# THEN FEEL FREE TO DELETE THIS CELL.\n",
        "# NOTE: THIS NOTEBOOK ENVIRONMENT DIFFERS FROM KAGGLE'S PYTHON\n",
        "# ENVIRONMENT SO THERE MAY BE MISSING LIBRARIES USED BY YOUR\n",
        "# NOTEBOOK.\n",
        "import kagglehub\n",
        "jainpooja_fake_news_detection_path = kagglehub.dataset_download('jainpooja/fake-news-detection')\n",
        "\n",
        "print('Data source import complete.')\n"
      ],
      "metadata": {
        "id": "n-qPvEwOqAMl"
      },
      "cell_type": "code",
      "outputs": [],
      "execution_count": null
    },
    {
      "cell_type": "code",
      "source": [
        "# This Python 3 environment comes with many helpful analytics libraries installed\n",
        "# It is defined by the kaggle/python Docker image: https://github.com/kaggle/docker-python\n",
        "# For example, here's several helpful packages to load\n",
        "\n",
        "import numpy as np # linear algebra\n",
        "import pandas as pd # data processing, CSV file I/O (e.g. pd.read_csv)\n",
        "\n",
        "# Input data files are available in the read-only \"../input/\" directory\n",
        "# For example, running this (by clicking run or pressing Shift+Enter) will list all files under the input directory\n",
        "\n",
        "import os\n",
        "for dirname, _, filenames in os.walk('/kaggle/input'):\n",
        "    for filename in filenames:\n",
        "        print(os.path.join(dirname, filename))\n",
        "\n",
        "# You can write up to 20GB to the current directory (/kaggle/working/) that gets preserved as output when you create a version using \"Save & Run All\"\n",
        "# You can also write temporary files to /kaggle/temp/, but they won't be saved outside of the current session"
      ],
      "metadata": {
        "_uuid": "8f2839f25d086af736a60e9eeb907d3b93b6e0e5",
        "_cell_guid": "b1076dfc-b9ad-4769-8c92-a6c4dae69d19",
        "trusted": true,
        "execution": {
          "iopub.status.busy": "2025-08-01T16:36:06.870199Z",
          "iopub.execute_input": "2025-08-01T16:36:06.870542Z",
          "iopub.status.idle": "2025-08-01T16:36:08.175895Z",
          "shell.execute_reply.started": "2025-08-01T16:36:06.870514Z",
          "shell.execute_reply": "2025-08-01T16:36:08.174781Z"
        },
        "id": "XlONmwBxqAMy"
      },
      "outputs": [],
      "execution_count": null
    },
    {
      "cell_type": "markdown",
      "source": [
        "# **Introduction**\n",
        "In an era of rapid social media and online news dissemination, fake news poses a threat to public perception and social stability. This project leverages natural language processing (NLP) and machine learning technologies to develop a model that automatically determines whether news is true or false based on its context."
      ],
      "metadata": {
        "id": "VO_ja8rJqAM1"
      }
    },
    {
      "cell_type": "markdown",
      "source": [
        "# **Data Processing**"
      ],
      "metadata": {
        "id": "-MNFjtpXqAM6"
      }
    },
    {
      "cell_type": "code",
      "source": [
        "#import the packages\n",
        "import seaborn as sns\n",
        "import matplotlib.pyplot as plt\n",
        "import re\n",
        "import string"
      ],
      "metadata": {
        "trusted": true,
        "execution": {
          "iopub.status.busy": "2025-08-01T16:36:08.177584Z",
          "iopub.execute_input": "2025-08-01T16:36:08.178161Z",
          "iopub.status.idle": "2025-08-01T16:36:09.981932Z",
          "shell.execute_reply.started": "2025-08-01T16:36:08.178126Z",
          "shell.execute_reply": "2025-08-01T16:36:09.980703Z"
        },
        "id": "L4vp_vWkqAM7"
      },
      "outputs": [],
      "execution_count": null
    },
    {
      "cell_type": "code",
      "source": [
        "#instull the data\n",
        "df_fake = pd.read_csv(\"../input/fake-news-detection/Fake.csv\")\n",
        "df_true = pd.read_csv(\"../input/fake-news-detection/True.csv\")\n",
        "#check the fake news dataset\n",
        "df_fake.head()"
      ],
      "metadata": {
        "trusted": true,
        "execution": {
          "iopub.status.busy": "2025-08-01T16:36:09.982981Z",
          "iopub.execute_input": "2025-08-01T16:36:09.983729Z",
          "iopub.status.idle": "2025-08-01T16:36:13.090121Z",
          "shell.execute_reply.started": "2025-08-01T16:36:09.983694Z",
          "shell.execute_reply": "2025-08-01T16:36:13.08892Z"
        },
        "id": "olZ7LD_DqAM9"
      },
      "outputs": [],
      "execution_count": null
    },
    {
      "cell_type": "code",
      "source": [
        "# check the true news dataset\n",
        "df_true.head()"
      ],
      "metadata": {
        "trusted": true,
        "execution": {
          "iopub.status.busy": "2025-08-01T16:36:13.092377Z",
          "iopub.execute_input": "2025-08-01T16:36:13.092713Z",
          "iopub.status.idle": "2025-08-01T16:36:13.103956Z",
          "shell.execute_reply.started": "2025-08-01T16:36:13.092685Z",
          "shell.execute_reply": "2025-08-01T16:36:13.102893Z"
        },
        "id": "GZjwskh3qAM-"
      },
      "outputs": [],
      "execution_count": null
    },
    {
      "cell_type": "code",
      "source": [
        "#check the dataset size\n",
        "print(df_fake.shape, df_true.shape)"
      ],
      "metadata": {
        "trusted": true,
        "execution": {
          "iopub.status.busy": "2025-08-01T16:36:13.105081Z",
          "iopub.execute_input": "2025-08-01T16:36:13.105451Z",
          "iopub.status.idle": "2025-08-01T16:36:13.132034Z",
          "shell.execute_reply.started": "2025-08-01T16:36:13.105418Z",
          "shell.execute_reply": "2025-08-01T16:36:13.130505Z"
        },
        "id": "9QjlneY8qANB"
      },
      "outputs": [],
      "execution_count": null
    },
    {
      "cell_type": "code",
      "source": [
        "# add a category field(target)\n",
        "df_fake[\"class\"] = 0 #fake news\n",
        "df_true[\"class\"] = 1 #true news"
      ],
      "metadata": {
        "trusted": true,
        "execution": {
          "iopub.status.busy": "2025-08-01T16:36:13.133372Z",
          "iopub.execute_input": "2025-08-01T16:36:13.133705Z",
          "iopub.status.idle": "2025-08-01T16:36:13.162504Z",
          "shell.execute_reply.started": "2025-08-01T16:36:13.133678Z",
          "shell.execute_reply": "2025-08-01T16:36:13.161137Z"
        },
        "id": "8NaC5LhEqANC"
      },
      "outputs": [],
      "execution_count": null
    },
    {
      "cell_type": "code",
      "source": [
        "# check the dataset again\n",
        "print(df_fake.shape, df_true.shape)"
      ],
      "metadata": {
        "trusted": true,
        "execution": {
          "iopub.status.busy": "2025-08-01T16:36:13.16407Z",
          "iopub.execute_input": "2025-08-01T16:36:13.16452Z",
          "iopub.status.idle": "2025-08-01T16:36:13.188219Z",
          "shell.execute_reply.started": "2025-08-01T16:36:13.164477Z",
          "shell.execute_reply": "2025-08-01T16:36:13.187037Z"
        },
        "id": "05dfxd2WqANE"
      },
      "outputs": [],
      "execution_count": null
    },
    {
      "cell_type": "code",
      "source": [
        "# combine both data and shuffle\n",
        "df = pd.concat([df_fake, df_true], axis=0)\n",
        "# shuffle\n",
        "df = df.sample(frac=1).reset_index(drop=True)"
      ],
      "metadata": {
        "trusted": true,
        "execution": {
          "iopub.status.busy": "2025-08-01T16:36:13.18936Z",
          "iopub.execute_input": "2025-08-01T16:36:13.189823Z",
          "iopub.status.idle": "2025-08-01T16:36:13.24775Z",
          "shell.execute_reply.started": "2025-08-01T16:36:13.189775Z",
          "shell.execute_reply": "2025-08-01T16:36:13.24674Z"
        },
        "id": "aS9nPc_eqANF"
      },
      "outputs": [],
      "execution_count": null
    },
    {
      "cell_type": "code",
      "source": [
        "#check\n",
        "df.head()"
      ],
      "metadata": {
        "trusted": true,
        "execution": {
          "iopub.status.busy": "2025-08-01T16:36:13.248786Z",
          "iopub.execute_input": "2025-08-01T16:36:13.249066Z",
          "iopub.status.idle": "2025-08-01T16:36:13.25987Z",
          "shell.execute_reply.started": "2025-08-01T16:36:13.249043Z",
          "shell.execute_reply": "2025-08-01T16:36:13.25885Z"
        },
        "id": "rsR38qfNqANH"
      },
      "outputs": [],
      "execution_count": null
    },
    {
      "cell_type": "markdown",
      "source": [
        "# Text data pre-processing"
      ],
      "metadata": {
        "id": "kR2PgdX3qANI"
      }
    },
    {
      "cell_type": "code",
      "source": [
        "# Define a text cleaning function\n",
        "def clean_text(text):\n",
        "    text = text.lower()\n",
        "    text = re.sub('\\[.*?\\]', '', text)\n",
        "    text = re.sub('https?://\\S+|www\\.\\S+', '', text)\n",
        "    text = re.sub('<.*?>+', '', text)\n",
        "    text = re.sub('[%s]' % re.escape(string.punctuation), '', text)\n",
        "    text = re.sub('\\n', ' ', text)\n",
        "    text = re.sub('\\w*\\d\\w*', '', text)\n",
        "    return text"
      ],
      "metadata": {
        "trusted": true,
        "execution": {
          "iopub.status.busy": "2025-08-01T16:36:13.263405Z",
          "iopub.execute_input": "2025-08-01T16:36:13.263762Z",
          "iopub.status.idle": "2025-08-01T16:36:13.285731Z",
          "shell.execute_reply.started": "2025-08-01T16:36:13.263734Z",
          "shell.execute_reply": "2025-08-01T16:36:13.284636Z"
        },
        "id": "RrrYucC8qANJ"
      },
      "outputs": [],
      "execution_count": null
    },
    {
      "cell_type": "code",
      "source": [
        "# Apply cleaning to title and text\n",
        "df[\"title\"] = df[\"title\"].apply(clean_text)\n",
        "df[\"text\"] = df[\"text\"].apply(clean_text)"
      ],
      "metadata": {
        "trusted": true,
        "execution": {
          "iopub.status.busy": "2025-08-01T16:36:13.286752Z",
          "iopub.execute_input": "2025-08-01T16:36:13.28706Z",
          "iopub.status.idle": "2025-08-01T16:36:35.14536Z",
          "shell.execute_reply.started": "2025-08-01T16:36:13.287036Z",
          "shell.execute_reply": "2025-08-01T16:36:35.144244Z"
        },
        "id": "e4CfJdAwqANJ"
      },
      "outputs": [],
      "execution_count": null
    },
    {
      "cell_type": "markdown",
      "source": [
        "# Feature merging and modeling preparation"
      ],
      "metadata": {
        "id": "fXuyyCDPqANK"
      }
    },
    {
      "cell_type": "code",
      "source": [
        "#Combine title and text into one feature\n",
        "df[\"content\"] = df[\"title\"] + \" \" + df[\"text\"]"
      ],
      "metadata": {
        "trusted": true,
        "execution": {
          "iopub.status.busy": "2025-08-01T16:36:35.1464Z",
          "iopub.execute_input": "2025-08-01T16:36:35.146799Z",
          "iopub.status.idle": "2025-08-01T16:36:35.376115Z",
          "shell.execute_reply.started": "2025-08-01T16:36:35.146769Z",
          "shell.execute_reply": "2025-08-01T16:36:35.37495Z"
        },
        "id": "cxVDzr5hqANK"
      },
      "outputs": [],
      "execution_count": null
    },
    {
      "cell_type": "code",
      "source": [
        "#Define features and target\n",
        "X = df[\"content\"]\n",
        "y = df[\"class\"]"
      ],
      "metadata": {
        "trusted": true,
        "execution": {
          "iopub.status.busy": "2025-08-01T16:36:35.376987Z",
          "iopub.execute_input": "2025-08-01T16:36:35.377299Z",
          "iopub.status.idle": "2025-08-01T16:36:35.38338Z",
          "shell.execute_reply.started": "2025-08-01T16:36:35.377272Z",
          "shell.execute_reply": "2025-08-01T16:36:35.382158Z"
        },
        "id": "osIASvpqqANL"
      },
      "outputs": [],
      "execution_count": null
    },
    {
      "cell_type": "code",
      "source": [
        "#Split the data (80% trianing, 20% test)\n",
        "from sklearn.model_selection import train_test_split\n",
        "\n",
        "X_train, X_test, y_train, y_test = train_test_split(X, y, test_size=0.2,\n",
        "                                                    random_state=42)"
      ],
      "metadata": {
        "trusted": true,
        "execution": {
          "iopub.status.busy": "2025-08-01T16:36:35.384856Z",
          "iopub.execute_input": "2025-08-01T16:36:35.385299Z",
          "iopub.status.idle": "2025-08-01T16:36:35.862702Z",
          "shell.execute_reply.started": "2025-08-01T16:36:35.385256Z",
          "shell.execute_reply": "2025-08-01T16:36:35.861813Z"
        },
        "id": "P_DQu13-qANL"
      },
      "outputs": [],
      "execution_count": null
    },
    {
      "cell_type": "markdown",
      "source": [
        "**TF-IDF**\n",
        "\n",
        "TF-IDF is a text vectorization technique used in NLP (Natural Language Processing) for feature extraction.\n",
        "\n",
        "1. stop_words='english': Automatically filter out common nonsense words in English (such as \"the\", \"and\", \"is\", etc.)\n",
        "2. max_df: ignore words that appear in more than x% of the documents\n",
        "3. min_df: Ignore words that appear in less than x documents\n",
        "4. ngram_range=(x,y): extract single words and double-word combinations at the same time"
      ],
      "metadata": {
        "id": "oyUhoEKnqANM"
      }
    },
    {
      "cell_type": "code",
      "source": [
        "# Vectorization\n",
        "from sklearn.feature_extraction.text import TfidfVectorizer\n",
        "\n",
        "vectorizer = TfidfVectorizer(stop_words='english', max_df=0.7)\n",
        "Xv_train = vectorizer.fit_transform(X_train)\n",
        "Xv_test = vectorizer.transform(X_test)"
      ],
      "metadata": {
        "trusted": true,
        "execution": {
          "iopub.status.busy": "2025-08-01T16:36:35.863953Z",
          "iopub.execute_input": "2025-08-01T16:36:35.864301Z",
          "iopub.status.idle": "2025-08-01T16:36:51.11579Z",
          "shell.execute_reply.started": "2025-08-01T16:36:35.864251Z",
          "shell.execute_reply": "2025-08-01T16:36:51.114577Z"
        },
        "id": "wrkIMPMuqANM"
      },
      "outputs": [],
      "execution_count": null
    },
    {
      "cell_type": "markdown",
      "source": [
        "# **Model training and evaluation**\n",
        "\n",
        "TF-IDF works well with Logistic Regression, Random Forest, naive Bayes, and SVM; we will test the Logistic and Random Forest"
      ],
      "metadata": {
        "id": "O10i3FPhqANN"
      }
    },
    {
      "cell_type": "code",
      "source": [
        "#Logistic Regression\n",
        "from sklearn.linear_model import LogisticRegression\n",
        "from sklearn.metrics import classification_report\n",
        "\n",
        "lr = LogisticRegression()\n",
        "lr.fit(Xv_train, y_train)\n",
        "pred_lr = lr.predict(Xv_test)\n",
        "\n",
        "print(\"Logistic Regression Results:\\n\")\n",
        "print(classification_report(y_test, pred_lr))"
      ],
      "metadata": {
        "trusted": true,
        "execution": {
          "iopub.status.busy": "2025-08-01T16:36:51.11693Z",
          "iopub.execute_input": "2025-08-01T16:36:51.117213Z",
          "iopub.status.idle": "2025-08-01T16:36:55.050036Z",
          "shell.execute_reply.started": "2025-08-01T16:36:51.117192Z",
          "shell.execute_reply": "2025-08-01T16:36:55.049108Z"
        },
        "id": "VjAguxOYqANN"
      },
      "outputs": [],
      "execution_count": null
    },
    {
      "cell_type": "code",
      "source": [
        "# Random Forest\n",
        "from sklearn.ensemble import RandomForestClassifier\n",
        "\n",
        "rfc = RandomForestClassifier()\n",
        "rfc.fit(Xv_train, y_train)\n",
        "pred_rfc = rfc.predict(Xv_test)\n",
        "\n",
        "print(\"Random Forest Results:\\n\")\n",
        "print(classification_report(y_test, pred_rfc))"
      ],
      "metadata": {
        "trusted": true,
        "execution": {
          "iopub.status.busy": "2025-08-01T16:36:55.051371Z",
          "iopub.execute_input": "2025-08-01T16:36:55.051733Z",
          "iopub.status.idle": "2025-08-01T16:39:15.436878Z",
          "shell.execute_reply.started": "2025-08-01T16:36:55.0517Z",
          "shell.execute_reply": "2025-08-01T16:39:15.435458Z"
        },
        "id": "k0IjuGeEqANO"
      },
      "outputs": [],
      "execution_count": null
    },
    {
      "cell_type": "markdown",
      "source": [
        "# Model comparison visualization"
      ],
      "metadata": {
        "id": "Dy1aSLO0qANO"
      }
    },
    {
      "cell_type": "code",
      "source": [
        "from sklearn.metrics import confusion_matrix, ConfusionMatrixDisplay\n",
        "\n",
        "# Example for Random Forest\n",
        "cm = confusion_matrix(y_test, pred_rfc)\n",
        "disp = ConfusionMatrixDisplay(confusion_matrix=cm, display_labels=['Fake', 'Real'])\n",
        "disp.plot(cmap='Blues')\n",
        "plt.title('Confusion Matrix - Random Forest')\n",
        "plt.show()"
      ],
      "metadata": {
        "trusted": true,
        "execution": {
          "iopub.status.busy": "2025-08-01T16:39:15.437965Z",
          "iopub.execute_input": "2025-08-01T16:39:15.438263Z",
          "iopub.status.idle": "2025-08-01T16:39:15.715212Z",
          "shell.execute_reply.started": "2025-08-01T16:39:15.438239Z",
          "shell.execute_reply": "2025-08-01T16:39:15.714108Z"
        },
        "id": "to9CRv_VqANO"
      },
      "outputs": [],
      "execution_count": null
    },
    {
      "cell_type": "code",
      "source": [
        "X_title = df['title']\n",
        "X_train_t, X_test_t, y_train_t, y_test_t = train_test_split(X_title, y, test_size=0.25, random_state=42)\n",
        "\n",
        "vectorizer_title = TfidfVectorizer()\n",
        "Xv_train_t = vectorizer_title.fit_transform(X_train_t)\n",
        "Xv_test_t = vectorizer_title.transform(X_test_t)\n",
        "\n",
        "lr_title = LogisticRegression()\n",
        "lr_title.fit(Xv_train_t, y_train_t)\n",
        "pred_title = lr_title.predict(Xv_test_t)\n",
        "\n",
        "print(\"Title-only Logistic Regression:\\n\")\n",
        "print(classification_report(y_test_t, pred_title))"
      ],
      "metadata": {
        "trusted": true,
        "execution": {
          "iopub.status.busy": "2025-08-01T16:39:15.716457Z",
          "iopub.execute_input": "2025-08-01T16:39:15.716814Z",
          "iopub.status.idle": "2025-08-01T16:39:16.885879Z",
          "shell.execute_reply.started": "2025-08-01T16:39:15.716778Z",
          "shell.execute_reply": "2025-08-01T16:39:16.884034Z"
        },
        "id": "tV6NaSWdqANP"
      },
      "outputs": [],
      "execution_count": null
    },
    {
      "cell_type": "markdown",
      "source": [
        "# Analyzing Common Keywords in Fake News"
      ],
      "metadata": {
        "id": "W95-nt8AqANP"
      }
    },
    {
      "cell_type": "markdown",
      "source": [
        "**Logistic Regression**"
      ],
      "metadata": {
        "id": "hEtnq5gdqANQ"
      }
    },
    {
      "cell_type": "code",
      "source": [
        "# Get vocabulary names\n",
        "feature_names = vectorizer.get_feature_names_out()\n",
        "\n",
        "# Get the weight of each word (contribution to \"class=1\" → real news)\n",
        "coefs = lr.coef_[0]\n",
        "\n",
        "# Create a dataframe\n",
        "coef_df = pd.DataFrame({\n",
        "    'term': feature_names,\n",
        "    'coef': coefs\n",
        "})\n",
        "\n",
        "# Sort: from most negative (fake) to most positive (real)\n",
        "top_fake_words = coef_df.sort_values(by='coef').head(20)\n",
        "#top_real_words = coef_df.sort_values(by='coef').tail(20)\n",
        "\n",
        "print(\"Top 20 keywords that indicate FAKE news:\")\n",
        "print(top_fake_words)\n"
      ],
      "metadata": {
        "trusted": true,
        "execution": {
          "iopub.status.busy": "2025-08-01T16:39:16.886904Z",
          "iopub.execute_input": "2025-08-01T16:39:16.887219Z",
          "iopub.status.idle": "2025-08-01T16:39:17.205689Z",
          "shell.execute_reply.started": "2025-08-01T16:39:16.887195Z",
          "shell.execute_reply": "2025-08-01T16:39:17.204587Z"
        },
        "id": "qprZeKvrqANQ"
      },
      "outputs": [],
      "execution_count": null
    },
    {
      "cell_type": "code",
      "source": [
        "import matplotlib.pyplot as plt\n",
        "\n",
        "plt.figure(figsize=(10, 6))\n",
        "plt.barh(top_fake_words['term'][::-1], top_fake_words['coef'][::-1], color='crimson')\n",
        "plt.xlabel(\"Logistic Regression Coefficient\")\n",
        "plt.title(\"Top 20 Keywords Indicating FAKE News\")\n",
        "plt.tight_layout()\n",
        "plt.show()"
      ],
      "metadata": {
        "trusted": true,
        "execution": {
          "iopub.status.busy": "2025-08-01T16:39:17.206387Z",
          "iopub.execute_input": "2025-08-01T16:39:17.206686Z",
          "iopub.status.idle": "2025-08-01T16:39:17.534944Z",
          "shell.execute_reply.started": "2025-08-01T16:39:17.206663Z",
          "shell.execute_reply": "2025-08-01T16:39:17.53381Z"
        },
        "id": "QJwRrgCDqANS"
      },
      "outputs": [],
      "execution_count": null
    },
    {
      "cell_type": "markdown",
      "source": [
        "****"
      ],
      "metadata": {
        "id": "EmelBinvqANU"
      }
    },
    {
      "cell_type": "markdown",
      "source": [
        "**Random Forest**"
      ],
      "metadata": {
        "id": "98mfPiBgqANV"
      }
    },
    {
      "cell_type": "code",
      "source": [
        "# Get feature names from the vectorizer\n",
        "feature_names = vectorizer.get_feature_names_out()\n",
        "\n",
        "# Get feature importances from the trained Random Forest\n",
        "importances = rfc.feature_importances_\n",
        "\n",
        "# Create a DataFrame to store them\n",
        "rf_feature_df = pd.DataFrame({\n",
        "    'term': feature_names,\n",
        "    'importance': importances\n",
        "})\n",
        "\n",
        "# Sort by importance\n",
        "rf_top_words = rf_feature_df.sort_values(by='importance', ascending=False).head(20)\n",
        "\n",
        "# Display\n",
        "print(\"Top 20 important words in Random Forest (TF-IDF features):\")\n",
        "print(rf_top_words)"
      ],
      "metadata": {
        "trusted": true,
        "execution": {
          "iopub.status.busy": "2025-08-01T16:39:17.536168Z",
          "iopub.execute_input": "2025-08-01T16:39:17.536578Z",
          "iopub.status.idle": "2025-08-01T16:39:18.18858Z",
          "shell.execute_reply.started": "2025-08-01T16:39:17.536516Z",
          "shell.execute_reply": "2025-08-01T16:39:18.187421Z"
        },
        "id": "tpQNh8XsqANW"
      },
      "outputs": [],
      "execution_count": null
    },
    {
      "cell_type": "markdown",
      "source": [
        "# Use SHAP (SHapley Additive exPlanations) to \"explain model predictions\""
      ],
      "metadata": {
        "id": "k4c59nGIqANW"
      }
    },
    {
      "cell_type": "code",
      "source": [
        "import shap"
      ],
      "metadata": {
        "trusted": true,
        "execution": {
          "iopub.status.busy": "2025-08-01T16:39:18.189657Z",
          "iopub.execute_input": "2025-08-01T16:39:18.190974Z",
          "iopub.status.idle": "2025-08-01T16:39:25.310906Z",
          "shell.execute_reply.started": "2025-08-01T16:39:18.190945Z",
          "shell.execute_reply": "2025-08-01T16:39:25.309917Z"
        },
        "id": "TygpG1dmqANX"
      },
      "outputs": [],
      "execution_count": null
    },
    {
      "cell_type": "code",
      "source": [
        "import random\n",
        "# Get feature names from the TF-IDF vectorizer\n",
        "feature_names = vectorizer.get_feature_names_out()\n",
        "\n",
        "# Convert the entire training set to dense array for SHAP\n",
        "X_train_dense = Xv_train.toarray()\n",
        "\n",
        "# Create SHAP explainer for logistic regression model\n",
        "explainer = shap.Explainer(lr, X_train_dense, feature_names=feature_names)\n",
        "\n",
        "# Randomly select one sample from the test set\n",
        "random_index = random.randint(0, Xv_test.shape[0] - 1)\n",
        "x_sample = Xv_test[random_index].toarray()\n",
        "y_sample = y_test.iloc[random_index]\n",
        "\n",
        "# Explain the prediction for the selected sample\n",
        "shap_values = explainer(x_sample)\n",
        "\n",
        "# Show SHAP contribution bar plot\n",
        "shap.plots.bar(shap_values)"
      ],
      "metadata": {
        "trusted": true,
        "execution": {
          "iopub.status.busy": "2025-08-01T16:39:25.312119Z",
          "iopub.execute_input": "2025-08-01T16:39:25.312866Z",
          "iopub.status.idle": "2025-08-01T16:39:58.507986Z",
          "shell.execute_reply.started": "2025-08-01T16:39:25.312836Z",
          "shell.execute_reply": "2025-08-01T16:39:58.50699Z"
        },
        "id": "8dGX3nUAqANX"
      },
      "outputs": [],
      "execution_count": null
    },
    {
      "cell_type": "code",
      "source": [
        "#print the true label and predicted label\n",
        "y_pred = lr.predict(x_sample)[0]\n",
        "print(f\"True label: {y_sample} → {'REAL' if y_sample == 1 else 'FAKE'}\")\n",
        "print(f\"Predicted label: {y_pred} → {'REAL' if y_pred == 1 else 'FAKE'}\")"
      ],
      "metadata": {
        "trusted": true,
        "execution": {
          "iopub.status.busy": "2025-08-01T16:43:26.42894Z",
          "iopub.execute_input": "2025-08-01T16:43:26.429363Z",
          "iopub.status.idle": "2025-08-01T16:43:26.437688Z",
          "shell.execute_reply.started": "2025-08-01T16:43:26.429331Z",
          "shell.execute_reply": "2025-08-01T16:43:26.436631Z"
        },
        "id": "wKHzAR2TqANY"
      },
      "outputs": [],
      "execution_count": null
    },
    {
      "cell_type": "code",
      "source": [
        "#How each word contributes to this article being judged as FAKE\n",
        "shap.plots.waterfall(shap_values[0])"
      ],
      "metadata": {
        "trusted": true,
        "execution": {
          "iopub.status.busy": "2025-08-01T16:43:42.934623Z",
          "iopub.execute_input": "2025-08-01T16:43:42.93501Z",
          "iopub.status.idle": "2025-08-01T16:43:45.501071Z",
          "shell.execute_reply.started": "2025-08-01T16:43:42.934975Z",
          "shell.execute_reply": "2025-08-01T16:43:45.500053Z"
        },
        "id": "ebrFAtdgqANY"
      },
      "outputs": [],
      "execution_count": null
    }
  ]
}